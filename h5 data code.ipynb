{
 "cells": [
  {
   "cell_type": "code",
   "execution_count": 13,
   "metadata": {},
   "outputs": [],
   "source": [
    "import numpy as np\n",
    "#import png\n",
    "import pydicom as dicom\n",
    "import os\n",
    "import glob\n",
    "import pandas as pd\n",
    "import matplotlib.pyplot as plt\n",
    "import functools as ft\n",
    "import re\n",
    "import cv2\n",
    "import PIL # optional\n",
    "import csv\n",
    "from pydicom.pixel_data_handlers.util import apply_color_lut\n",
    "from sklearn import preprocessing\n",
    "from sklearn.ensemble import RandomForestClassifier \n",
    "from sklearn.model_selection import train_test_split, cross_val_score\n",
    "from sklearn.model_selection import train_test_split"
   ]
  },
  {
   "cell_type": "code",
   "execution_count": 14,
   "metadata": {},
   "outputs": [],
   "source": [
    "feat_names = [\"tum_loc\", \"side_of_tum_epicenter\", \"eloq_brain\", \"enh_quality\", \"prop_enh\", \"prop_ncet\", \"prop_necr\", \"cysts\", \"mf_or_mc\", \"t1_f_ratio\", \"thick_em\", \"def_em\", \"def_nem\", \"prop_edema\", \"edema_crosses_ml\", \"hem\", \"diff\", \"pial_inv\", \"epe_inv\", \"cort_involv\", \"deep_wm_inv\", \"ncet_crosses_ml\", \"enh_tum_crosses_ml\", \"satellites\", \"calv_remodel\", \"ext_res_enh_tum\", \"ext_res_ncet\", \"ext_res_vas_edema\", \"les_size1\", \"les_size2\"]\n",
    "feat_mapping = dict(zip([\"f%d\" % i for i in range(1, 31)], feat_names))\n",
    "\n",
    "categorical_cols = [1, 2, 3, 4, 9, 10, 11, 12, 13, 17]\n",
    "yes_no_cols = [8, 15, 16, 18, 19, 20, 21, 22, 23, 24, 25]\n",
    "cm_cols = [29, 30]\n",
    "percent_cols = [5, 6, 7, 14, 26, 27, 28] \n",
    "\n",
    "class Utils():    \n",
    "    def show_dcm(pixel_array):\n",
    "        plt.imshow(pixel_array, cmap = plt.get_cmap(\"bone\"))\n",
    "        \n",
    "    def dcm_downsample(pixel_array, interval):\n",
    "        return pixel_array[::interval, ::interval]\n",
    "    \n",
    "\n",
    "def union_categorical_features(series):\n",
    "\n",
    "    as_int_tups = []\n",
    "    for categories in series.tolist():\n",
    "        if type(categories) == str:\n",
    "            as_int_tups.append(map(int, re.findall(r\"\\d+\", categories)))\n",
    "        else:\n",
    "            as_int_tups.append([categories])\n",
    "        \n",
    "    as_int_sets = [set(tup) for tup in as_int_tups]\n",
    "    return tuple(ft.reduce(lambda x, y: x.union(y), as_int_sets))\n",
    "\n",
    "def mri_group_categorical_feats(group_df):\n",
    "    regrouping = {}\n",
    "    categorical_feats = [\"f%d\" % d for d in categorical_cols]\n",
    "    \n",
    "    for feat in categorical_feats:\n",
    "        regrouping[feat] = union_categorical_features(group_df[feat])\n",
    "        \n",
    "    return pd.Series(regrouping, index=categorical_feats)\n"
   ]
  },
  {
   "cell_type": "code",
   "execution_count": 15,
   "metadata": {},
   "outputs": [],
   "source": [
    "REMBRANDT_PATH = \"C:\\\\Users\\\\Sandhya Rao\\\\Desktop\\\\REMBRANDT/\"\n",
    "CLINICAL_DATA_PATH = \"C:\\\\Users\\\\Sandhya Rao\\\\Downloads\\\\clinical_2014-01-16.xlsx\"\n",
    "MRI_FEATURE_PATH = \"C:\\\\Users\\\\Sandhya Rao\\\\Downloads\\\\VASARI_MRI_features (gmdi - wiki).xls\""
   ]
  },
  {
   "cell_type": "code",
   "execution_count": 16,
   "metadata": {},
   "outputs": [
    {
     "data": {
      "text/plain": [
       "<bound method NDFrame.head of                 Labels\n",
       "0          ASTROCYTOMA\n",
       "1                  GBM\n",
       "2          ASTROCYTOMA\n",
       "3                  GBM\n",
       "4                  GBM\n",
       "5                  GBM\n",
       "6                  GBM\n",
       "7    OLIGODENDROGLIOMA\n",
       "8                  GBM\n",
       "9    OLIGODENDROGLIOMA\n",
       "10                 GBM\n",
       "11                 GBM\n",
       "12   OLIGODENDROGLIOMA\n",
       "13                 GBM\n",
       "14         ASTROCYTOMA\n",
       "15                 GBM\n",
       "16         ASTROCYTOMA\n",
       "17                 GBM\n",
       "18                 GBM\n",
       "19                 GBM\n",
       "20   OLIGODENDROGLIOMA\n",
       "21                 GBM\n",
       "22                 GBM\n",
       "23                 GBM\n",
       "24                 GBM\n",
       "25         ASTROCYTOMA\n",
       "26                 GBM\n",
       "27         ASTROCYTOMA\n",
       "28   OLIGODENDROGLIOMA\n",
       "29         ASTROCYTOMA\n",
       "30                 GBM\n",
       "31                 GBM>"
      ]
     },
     "execution_count": 16,
     "metadata": {},
     "output_type": "execute_result"
    }
   ],
   "source": [
    "clinical_df = pd.read_excel(CLINICAL_DATA_PATH)\n",
    "mri_df = pd.read_excel(MRI_FEATURE_PATH)\n",
    "mri_df = mri_df.groupby(\"GMDI\").apply(mri_group_categorical_feats)\n",
    "clinical_df = clinical_df.rename(columns={'Sample':'GMDI'})\n",
    "mri_df = mri_df.rename_axis(\"GMDI\").reset_index()\n",
    "df = pd.merge(clinical_df, mri_df, how=\"inner\", on=\"GMDI\")\n",
    "df[\"GMDI\"] = df[\"GMDI\"].str.replace(\"_\",\"-\")\n",
    "labelsdf=pd.DataFrame()\n",
    "labelsdf[\"Labels\"]=df[\" Disease\"]\n",
    "labelsdf.head"
   ]
  },
  {
   "cell_type": "code",
   "execution_count": 17,
   "metadata": {},
   "outputs": [],
   "source": [
    "nparr=np.array(labelsdf[\"Labels\"])\n",
    "ll = nparr.reshape((len(nparr), 1))"
   ]
  },
  {
   "cell_type": "code",
   "execution_count": 18,
   "metadata": {},
   "outputs": [
    {
     "data": {
      "text/plain": [
       "array([' ASTROCYTOMA', ' GBM', ' OLIGODENDROGLIOMA'], dtype='<U18')"
      ]
     },
     "execution_count": 18,
     "metadata": {},
     "output_type": "execute_result"
    }
   ],
   "source": [
    "lb = preprocessing.LabelBinarizer()\n",
    "\n",
    "lb.fit(ll)\n",
    "lb.classes_"
   ]
  },
  {
   "cell_type": "code",
   "execution_count": 19,
   "metadata": {},
   "outputs": [
    {
     "data": {
      "text/html": [
       "<div>\n",
       "<style scoped>\n",
       "    .dataframe tbody tr th:only-of-type {\n",
       "        vertical-align: middle;\n",
       "    }\n",
       "\n",
       "    .dataframe tbody tr th {\n",
       "        vertical-align: top;\n",
       "    }\n",
       "\n",
       "    .dataframe thead th {\n",
       "        text-align: right;\n",
       "    }\n",
       "</style>\n",
       "<table border=\"1\" class=\"dataframe\">\n",
       "  <thead>\n",
       "    <tr style=\"text-align: right;\">\n",
       "      <th></th>\n",
       "      <th>id</th>\n",
       "      <th>labels</th>\n",
       "    </tr>\n",
       "  </thead>\n",
       "  <tbody>\n",
       "    <tr>\n",
       "      <td>0</td>\n",
       "      <td>900-00-1961</td>\n",
       "      <td>[1, 0, 0]</td>\n",
       "    </tr>\n",
       "    <tr>\n",
       "      <td>1</td>\n",
       "      <td>900-00-5332</td>\n",
       "      <td>[0, 1, 0]</td>\n",
       "    </tr>\n",
       "    <tr>\n",
       "      <td>2</td>\n",
       "      <td>900-00-5308</td>\n",
       "      <td>[1, 0, 0]</td>\n",
       "    </tr>\n",
       "    <tr>\n",
       "      <td>3</td>\n",
       "      <td>900-00-5316</td>\n",
       "      <td>[0, 1, 0]</td>\n",
       "    </tr>\n",
       "    <tr>\n",
       "      <td>4</td>\n",
       "      <td>900-00-5317</td>\n",
       "      <td>[0, 1, 0]</td>\n",
       "    </tr>\n",
       "    <tr>\n",
       "      <td>5</td>\n",
       "      <td>900-00-5338</td>\n",
       "      <td>[0, 1, 0]</td>\n",
       "    </tr>\n",
       "    <tr>\n",
       "      <td>6</td>\n",
       "      <td>900-00-5339</td>\n",
       "      <td>[0, 1, 0]</td>\n",
       "    </tr>\n",
       "    <tr>\n",
       "      <td>7</td>\n",
       "      <td>900-00-5341</td>\n",
       "      <td>[0, 0, 1]</td>\n",
       "    </tr>\n",
       "    <tr>\n",
       "      <td>8</td>\n",
       "      <td>900-00-5342</td>\n",
       "      <td>[0, 1, 0]</td>\n",
       "    </tr>\n",
       "    <tr>\n",
       "      <td>9</td>\n",
       "      <td>900-00-5345</td>\n",
       "      <td>[0, 0, 1]</td>\n",
       "    </tr>\n",
       "    <tr>\n",
       "      <td>10</td>\n",
       "      <td>900-00-5346</td>\n",
       "      <td>[0, 1, 0]</td>\n",
       "    </tr>\n",
       "    <tr>\n",
       "      <td>11</td>\n",
       "      <td>900-00-5379</td>\n",
       "      <td>[0, 1, 0]</td>\n",
       "    </tr>\n",
       "    <tr>\n",
       "      <td>12</td>\n",
       "      <td>900-00-5380</td>\n",
       "      <td>[0, 0, 1]</td>\n",
       "    </tr>\n",
       "    <tr>\n",
       "      <td>13</td>\n",
       "      <td>900-00-5381</td>\n",
       "      <td>[0, 1, 0]</td>\n",
       "    </tr>\n",
       "    <tr>\n",
       "      <td>14</td>\n",
       "      <td>900-00-5382</td>\n",
       "      <td>[1, 0, 0]</td>\n",
       "    </tr>\n",
       "    <tr>\n",
       "      <td>15</td>\n",
       "      <td>900-00-5384</td>\n",
       "      <td>[0, 1, 0]</td>\n",
       "    </tr>\n",
       "    <tr>\n",
       "      <td>16</td>\n",
       "      <td>900-00-5385</td>\n",
       "      <td>[1, 0, 0]</td>\n",
       "    </tr>\n",
       "    <tr>\n",
       "      <td>17</td>\n",
       "      <td>900-00-5393</td>\n",
       "      <td>[0, 1, 0]</td>\n",
       "    </tr>\n",
       "    <tr>\n",
       "      <td>18</td>\n",
       "      <td>900-00-5396</td>\n",
       "      <td>[0, 1, 0]</td>\n",
       "    </tr>\n",
       "    <tr>\n",
       "      <td>19</td>\n",
       "      <td>900-00-5404</td>\n",
       "      <td>[0, 1, 0]</td>\n",
       "    </tr>\n",
       "    <tr>\n",
       "      <td>20</td>\n",
       "      <td>900-00-5412</td>\n",
       "      <td>[0, 0, 1]</td>\n",
       "    </tr>\n",
       "    <tr>\n",
       "      <td>21</td>\n",
       "      <td>900-00-5413</td>\n",
       "      <td>[0, 1, 0]</td>\n",
       "    </tr>\n",
       "    <tr>\n",
       "      <td>22</td>\n",
       "      <td>900-00-5414</td>\n",
       "      <td>[0, 1, 0]</td>\n",
       "    </tr>\n",
       "    <tr>\n",
       "      <td>23</td>\n",
       "      <td>900-00-5445</td>\n",
       "      <td>[0, 1, 0]</td>\n",
       "    </tr>\n",
       "    <tr>\n",
       "      <td>24</td>\n",
       "      <td>900-00-5458</td>\n",
       "      <td>[0, 1, 0]</td>\n",
       "    </tr>\n",
       "    <tr>\n",
       "      <td>25</td>\n",
       "      <td>900-00-5459</td>\n",
       "      <td>[1, 0, 0]</td>\n",
       "    </tr>\n",
       "    <tr>\n",
       "      <td>26</td>\n",
       "      <td>900-00-5462</td>\n",
       "      <td>[0, 1, 0]</td>\n",
       "    </tr>\n",
       "    <tr>\n",
       "      <td>27</td>\n",
       "      <td>900-00-5468</td>\n",
       "      <td>[1, 0, 0]</td>\n",
       "    </tr>\n",
       "    <tr>\n",
       "      <td>28</td>\n",
       "      <td>900-00-5476</td>\n",
       "      <td>[0, 0, 1]</td>\n",
       "    </tr>\n",
       "    <tr>\n",
       "      <td>29</td>\n",
       "      <td>900-00-5477</td>\n",
       "      <td>[1, 0, 0]</td>\n",
       "    </tr>\n",
       "    <tr>\n",
       "      <td>30</td>\n",
       "      <td>900-00-5299</td>\n",
       "      <td>[0, 1, 0]</td>\n",
       "    </tr>\n",
       "    <tr>\n",
       "      <td>31</td>\n",
       "      <td>900-00-5303</td>\n",
       "      <td>[0, 1, 0]</td>\n",
       "    </tr>\n",
       "  </tbody>\n",
       "</table>\n",
       "</div>"
      ],
      "text/plain": [
       "             id     labels\n",
       "0   900-00-1961  [1, 0, 0]\n",
       "1   900-00-5332  [0, 1, 0]\n",
       "2   900-00-5308  [1, 0, 0]\n",
       "3   900-00-5316  [0, 1, 0]\n",
       "4   900-00-5317  [0, 1, 0]\n",
       "5   900-00-5338  [0, 1, 0]\n",
       "6   900-00-5339  [0, 1, 0]\n",
       "7   900-00-5341  [0, 0, 1]\n",
       "8   900-00-5342  [0, 1, 0]\n",
       "9   900-00-5345  [0, 0, 1]\n",
       "10  900-00-5346  [0, 1, 0]\n",
       "11  900-00-5379  [0, 1, 0]\n",
       "12  900-00-5380  [0, 0, 1]\n",
       "13  900-00-5381  [0, 1, 0]\n",
       "14  900-00-5382  [1, 0, 0]\n",
       "15  900-00-5384  [0, 1, 0]\n",
       "16  900-00-5385  [1, 0, 0]\n",
       "17  900-00-5393  [0, 1, 0]\n",
       "18  900-00-5396  [0, 1, 0]\n",
       "19  900-00-5404  [0, 1, 0]\n",
       "20  900-00-5412  [0, 0, 1]\n",
       "21  900-00-5413  [0, 1, 0]\n",
       "22  900-00-5414  [0, 1, 0]\n",
       "23  900-00-5445  [0, 1, 0]\n",
       "24  900-00-5458  [0, 1, 0]\n",
       "25  900-00-5459  [1, 0, 0]\n",
       "26  900-00-5462  [0, 1, 0]\n",
       "27  900-00-5468  [1, 0, 0]\n",
       "28  900-00-5476  [0, 0, 1]\n",
       "29  900-00-5477  [1, 0, 0]\n",
       "30  900-00-5299  [0, 1, 0]\n",
       "31  900-00-5303  [0, 1, 0]"
      ]
     },
     "execution_count": 19,
     "metadata": {},
     "output_type": "execute_result"
    }
   ],
   "source": [
    "Y=pd.DataFrame()\n",
    "#Y[\"Labels\"]\n",
    "#print(type(\n",
    "Y[\"id\"]=df[\"GMDI\"]\n",
    "Y[\"labels\"]=list(lb.transform(ll))\n",
    "#))\n",
    "Y"
   ]
  },
  {
   "cell_type": "code",
   "execution_count": 20,
   "metadata": {},
   "outputs": [
    {
     "data": {
      "text/plain": [
       "32"
      ]
     },
     "execution_count": 20,
     "metadata": {},
     "output_type": "execute_result"
    }
   ],
   "source": [
    "len(Y)"
   ]
  },
  {
   "cell_type": "code",
   "execution_count": 21,
   "metadata": {},
   "outputs": [
    {
     "data": {
      "text/html": [
       "<div>\n",
       "<style scoped>\n",
       "    .dataframe tbody tr th:only-of-type {\n",
       "        vertical-align: middle;\n",
       "    }\n",
       "\n",
       "    .dataframe tbody tr th {\n",
       "        vertical-align: top;\n",
       "    }\n",
       "\n",
       "    .dataframe thead th {\n",
       "        text-align: right;\n",
       "    }\n",
       "</style>\n",
       "<table border=\"1\" class=\"dataframe\">\n",
       "  <thead>\n",
       "    <tr style=\"text-align: right;\">\n",
       "      <th></th>\n",
       "      <th>labels</th>\n",
       "    </tr>\n",
       "    <tr>\n",
       "      <th>id</th>\n",
       "      <th></th>\n",
       "    </tr>\n",
       "  </thead>\n",
       "  <tbody>\n",
       "    <tr>\n",
       "      <td>900-00-1961</td>\n",
       "      <td>[1, 0, 0]</td>\n",
       "    </tr>\n",
       "    <tr>\n",
       "      <td>900-00-5332</td>\n",
       "      <td>[0, 1, 0]</td>\n",
       "    </tr>\n",
       "    <tr>\n",
       "      <td>900-00-5308</td>\n",
       "      <td>[1, 0, 0]</td>\n",
       "    </tr>\n",
       "    <tr>\n",
       "      <td>900-00-5316</td>\n",
       "      <td>[0, 1, 0]</td>\n",
       "    </tr>\n",
       "    <tr>\n",
       "      <td>900-00-5317</td>\n",
       "      <td>[0, 1, 0]</td>\n",
       "    </tr>\n",
       "    <tr>\n",
       "      <td>900-00-5338</td>\n",
       "      <td>[0, 1, 0]</td>\n",
       "    </tr>\n",
       "    <tr>\n",
       "      <td>900-00-5339</td>\n",
       "      <td>[0, 1, 0]</td>\n",
       "    </tr>\n",
       "    <tr>\n",
       "      <td>900-00-5341</td>\n",
       "      <td>[0, 0, 1]</td>\n",
       "    </tr>\n",
       "    <tr>\n",
       "      <td>900-00-5342</td>\n",
       "      <td>[0, 1, 0]</td>\n",
       "    </tr>\n",
       "    <tr>\n",
       "      <td>900-00-5345</td>\n",
       "      <td>[0, 0, 1]</td>\n",
       "    </tr>\n",
       "    <tr>\n",
       "      <td>900-00-5346</td>\n",
       "      <td>[0, 1, 0]</td>\n",
       "    </tr>\n",
       "    <tr>\n",
       "      <td>900-00-5379</td>\n",
       "      <td>[0, 1, 0]</td>\n",
       "    </tr>\n",
       "    <tr>\n",
       "      <td>900-00-5380</td>\n",
       "      <td>[0, 0, 1]</td>\n",
       "    </tr>\n",
       "    <tr>\n",
       "      <td>900-00-5381</td>\n",
       "      <td>[0, 1, 0]</td>\n",
       "    </tr>\n",
       "    <tr>\n",
       "      <td>900-00-5382</td>\n",
       "      <td>[1, 0, 0]</td>\n",
       "    </tr>\n",
       "    <tr>\n",
       "      <td>900-00-5384</td>\n",
       "      <td>[0, 1, 0]</td>\n",
       "    </tr>\n",
       "    <tr>\n",
       "      <td>900-00-5385</td>\n",
       "      <td>[1, 0, 0]</td>\n",
       "    </tr>\n",
       "    <tr>\n",
       "      <td>900-00-5393</td>\n",
       "      <td>[0, 1, 0]</td>\n",
       "    </tr>\n",
       "    <tr>\n",
       "      <td>900-00-5396</td>\n",
       "      <td>[0, 1, 0]</td>\n",
       "    </tr>\n",
       "    <tr>\n",
       "      <td>900-00-5404</td>\n",
       "      <td>[0, 1, 0]</td>\n",
       "    </tr>\n",
       "    <tr>\n",
       "      <td>900-00-5412</td>\n",
       "      <td>[0, 0, 1]</td>\n",
       "    </tr>\n",
       "    <tr>\n",
       "      <td>900-00-5413</td>\n",
       "      <td>[0, 1, 0]</td>\n",
       "    </tr>\n",
       "    <tr>\n",
       "      <td>900-00-5414</td>\n",
       "      <td>[0, 1, 0]</td>\n",
       "    </tr>\n",
       "    <tr>\n",
       "      <td>900-00-5445</td>\n",
       "      <td>[0, 1, 0]</td>\n",
       "    </tr>\n",
       "    <tr>\n",
       "      <td>900-00-5458</td>\n",
       "      <td>[0, 1, 0]</td>\n",
       "    </tr>\n",
       "    <tr>\n",
       "      <td>900-00-5459</td>\n",
       "      <td>[1, 0, 0]</td>\n",
       "    </tr>\n",
       "    <tr>\n",
       "      <td>900-00-5462</td>\n",
       "      <td>[0, 1, 0]</td>\n",
       "    </tr>\n",
       "    <tr>\n",
       "      <td>900-00-5468</td>\n",
       "      <td>[1, 0, 0]</td>\n",
       "    </tr>\n",
       "    <tr>\n",
       "      <td>900-00-5476</td>\n",
       "      <td>[0, 0, 1]</td>\n",
       "    </tr>\n",
       "    <tr>\n",
       "      <td>900-00-5477</td>\n",
       "      <td>[1, 0, 0]</td>\n",
       "    </tr>\n",
       "    <tr>\n",
       "      <td>900-00-5299</td>\n",
       "      <td>[0, 1, 0]</td>\n",
       "    </tr>\n",
       "    <tr>\n",
       "      <td>900-00-5303</td>\n",
       "      <td>[0, 1, 0]</td>\n",
       "    </tr>\n",
       "  </tbody>\n",
       "</table>\n",
       "</div>"
      ],
      "text/plain": [
       "                labels\n",
       "id                    \n",
       "900-00-1961  [1, 0, 0]\n",
       "900-00-5332  [0, 1, 0]\n",
       "900-00-5308  [1, 0, 0]\n",
       "900-00-5316  [0, 1, 0]\n",
       "900-00-5317  [0, 1, 0]\n",
       "900-00-5338  [0, 1, 0]\n",
       "900-00-5339  [0, 1, 0]\n",
       "900-00-5341  [0, 0, 1]\n",
       "900-00-5342  [0, 1, 0]\n",
       "900-00-5345  [0, 0, 1]\n",
       "900-00-5346  [0, 1, 0]\n",
       "900-00-5379  [0, 1, 0]\n",
       "900-00-5380  [0, 0, 1]\n",
       "900-00-5381  [0, 1, 0]\n",
       "900-00-5382  [1, 0, 0]\n",
       "900-00-5384  [0, 1, 0]\n",
       "900-00-5385  [1, 0, 0]\n",
       "900-00-5393  [0, 1, 0]\n",
       "900-00-5396  [0, 1, 0]\n",
       "900-00-5404  [0, 1, 0]\n",
       "900-00-5412  [0, 0, 1]\n",
       "900-00-5413  [0, 1, 0]\n",
       "900-00-5414  [0, 1, 0]\n",
       "900-00-5445  [0, 1, 0]\n",
       "900-00-5458  [0, 1, 0]\n",
       "900-00-5459  [1, 0, 0]\n",
       "900-00-5462  [0, 1, 0]\n",
       "900-00-5468  [1, 0, 0]\n",
       "900-00-5476  [0, 0, 1]\n",
       "900-00-5477  [1, 0, 0]\n",
       "900-00-5299  [0, 1, 0]\n",
       "900-00-5303  [0, 1, 0]"
      ]
     },
     "execution_count": 21,
     "metadata": {},
     "output_type": "execute_result"
    }
   ],
   "source": [
    "Y=Y.set_index(\"id\")\n",
    "Y"
   ]
  },
  {
   "cell_type": "code",
   "execution_count": 23,
   "metadata": {},
   "outputs": [
    {
     "name": "stdout",
     "output_type": "stream",
     "text": [
      "No. of paths :  21223\n",
      "No. of images :  21223\n",
      "No. of patients :  21223\n",
      "No. of labels :  21223\n"
     ]
    }
   ],
   "source": [
    "dcm_paths = []\n",
    "image_list=[]\n",
    "patient_list=[]\n",
    "path_list=[]\n",
    "label_list=[]\n",
    "pathtemp=[]\n",
    "n=1\n",
    "for patient_id in df[\"GMDI\"]:\n",
    "    pathtemp=glob.glob(REMBRANDT_PATH + \"%s/*/*/*.dcm\" % patient_id)\n",
    "#    n=n+1\n",
    "#    print(\"--------------------------------------\")\n",
    "    for path in pathtemp:\n",
    "        dicomimg=dicom.dcmread(path) \n",
    "        img = dicomimg.pixel_array\n",
    "        #rgb= apply_color_lut(img, palette='PET')\n",
    "        #data_downsampling = rgb[::2, ::2]    \n",
    "        resized = cv2.resize(img, (256,256), interpolation = cv2.INTER_CUBIC)\n",
    "        image_list.append(resized)\n",
    "        patient_list.append(patient_id)\n",
    "        label_list.append(Y.loc[str(patient_id),\"labels\"])\n",
    "        path_list.append(path)\n",
    "    #dcm_paths+=pathtemp\n",
    "    #if n==3:\n",
    "        #break\n",
    "print(\"No. of paths : \",len(path_list))\n",
    "print(\"No. of images : \",len(image_list))\n",
    "print(\"No. of patients : \",len(patient_list))\n",
    "print(\"No. of labels : \",len(label_list))"
   ]
  },
  {
   "cell_type": "code",
   "execution_count": 27,
   "metadata": {},
   "outputs": [
    {
     "name": "stdout",
     "output_type": "stream",
     "text": [
      "128:  0\n",
      "256:  21223\n",
      "288:  0\n",
      "432:  0\n",
      "512:  0\n",
      "21223\n",
      "Total:  21223\n",
      "21223\n"
     ]
    }
   ],
   "source": [
    "count1=0\n",
    "count2=0\n",
    "count3=0\n",
    "count4=0\n",
    "count5=0\n",
    "total=0\n",
    "img_list=[]\n",
    "for x in image_list:\n",
    "    img=x\n",
    "    sh=img.shape\n",
    "    if sh==(128, 128) :\n",
    "        count1+=1\n",
    "    elif sh==(256, 256) :\n",
    "        #img=img[::2, ::2]\n",
    "        count2+=1\n",
    "    elif sh==(288, 288) :\n",
    "        count3+=1\n",
    "    elif sh==(432, 432) :\n",
    "        count4+=1\n",
    "    elif sh==(512, 512) :\n",
    "        #img=img[::4, ::4]\n",
    "        count5+=1\n",
    "    else:\n",
    "        print(sh)\n",
    "    total+=1\n",
    "    img_list.append(img)\n",
    "        #print(img_2d_scaled.shape,img_2d_scaled.dtype)\n",
    "print(\"128: \",count1)\n",
    "print(\"256: \",count2)\n",
    "print(\"288: \",count3)\n",
    "print(\"432: \",count4)\n",
    "print(\"512: \",count5)\n",
    "print(count1+count2+count3+count4+count5)\n",
    "print(\"Total: \",total)\n",
    "print(len(image_list))\n",
    "\n",
    "    #img_list.append(img)"
   ]
  },
  {
   "cell_type": "code",
   "execution_count": 26,
   "metadata": {},
   "outputs": [],
   "source": [
    "for i in range(21223):\n",
    "    sh=image_list[i].shape\n",
    "    if sh!=(256, 256) :\n",
    "        print(sh)"
   ]
  },
  {
   "cell_type": "code",
   "execution_count": null,
   "metadata": {},
   "outputs": [],
   "source": [
    "p='C:\\\\Users\\\\Sandhya Rao\\\\Desktop\\\\REMBRANDT/900-00-5380\\\\07-03-2005-36342\\\\601-41047\\\\000000.dcm'\n",
    "i=dicom.dcmread(p)\n",
    "img=i.pixel_array\n",
    "plt.imshow(img,cmap='gray')\n",
    "#i= apply_color_lut(img, palette='PET')\n",
    "resized = cv2.resize(img, (128,128), interpolation = cv2.INTER_CUBIC)\n",
    "#label_list\n",
    "resized.shape"
   ]
  },
  {
   "cell_type": "code",
   "execution_count": null,
   "metadata": {},
   "outputs": [],
   "source": [
    "plt.imshow(resized,cmap='gray')"
   ]
  },
  {
   "cell_type": "code",
   "execution_count": null,
   "metadata": {},
   "outputs": [],
   "source": [
    "print(resized.shape)\n",
    "print(img.shape)"
   ]
  },
  {
   "cell_type": "code",
   "execution_count": null,
   "metadata": {},
   "outputs": [],
   "source": [
    "plt.imshow(resized)"
   ]
  },
  {
   "cell_type": "code",
   "execution_count": 28,
   "metadata": {},
   "outputs": [],
   "source": [
    "x_train= image_list\n",
    "y_train= label_list\n",
    "train_imgname=path_list\n",
    "train=list(zip(x_train,y_train,train_imgname))"
   ]
  },
  {
   "cell_type": "code",
   "execution_count": null,
   "metadata": {},
   "outputs": [],
   "source": [
    "#For testing\n",
    "''''\n",
    "for i in range(0,21223,1000):\n",
    "    print(path_list[i])\n",
    "    print(patient_list[i])\n",
    "    print(label_list[i])\n",
    "    print(\"-------------------------\")"
   ]
  },
  {
   "cell_type": "code",
   "execution_count": 29,
   "metadata": {},
   "outputs": [],
   "source": [
    "import random\n",
    "random.shuffle(train)\n",
    "x_train,y_train,train_imgname=zip(*train)"
   ]
  },
  {
   "cell_type": "code",
   "execution_count": 30,
   "metadata": {},
   "outputs": [],
   "source": [
    "X_train, X_test, y_train, y_test = train_test_split(x_train, y_train, test_size=0.3)"
   ]
  },
  {
   "cell_type": "code",
   "execution_count": 31,
   "metadata": {},
   "outputs": [
    {
     "name": "stdout",
     "output_type": "stream",
     "text": [
      "(3,)\n"
     ]
    },
    {
     "data": {
      "text/plain": [
       "(256, 256)"
      ]
     },
     "execution_count": 31,
     "metadata": {},
     "output_type": "execute_result"
    }
   ],
   "source": [
    "print((y_train[0].shape))\n",
    "X_train[0].shape\n",
    "#print( nx, ny)"
   ]
  },
  {
   "cell_type": "code",
   "execution_count": 33,
   "metadata": {},
   "outputs": [
    {
     "ename": "OSError",
     "evalue": "Unable to create file (unable to truncate a file which is already open)",
     "output_type": "error",
     "traceback": [
      "\u001b[1;31m---------------------------------------------------------------------------\u001b[0m",
      "\u001b[1;31mOSError\u001b[0m                                   Traceback (most recent call last)",
      "\u001b[1;32m<ipython-input-33-7351c544328b>\u001b[0m in \u001b[0;36m<module>\u001b[1;34m\u001b[0m\n\u001b[0;32m      1\u001b[0m \u001b[1;32mimport\u001b[0m \u001b[0mh5py\u001b[0m\u001b[1;33m\u001b[0m\u001b[1;33m\u001b[0m\u001b[0m\n\u001b[1;32m----> 2\u001b[1;33m \u001b[0mhf\u001b[0m \u001b[1;33m=\u001b[0m \u001b[0mh5py\u001b[0m\u001b[1;33m.\u001b[0m\u001b[0mFile\u001b[0m\u001b[1;33m(\u001b[0m\u001b[1;34m'C:\\\\Users\\\\Sandhya Rao\\\\Desktop\\\\REMBRANDT/data.h5'\u001b[0m\u001b[1;33m,\u001b[0m \u001b[1;34m'w'\u001b[0m\u001b[1;33m)\u001b[0m\u001b[1;33m\u001b[0m\u001b[1;33m\u001b[0m\u001b[0m\n\u001b[0m",
      "\u001b[1;32mC:\\Anaconda3\\lib\\site-packages\\h5py\\_hl\\files.py\u001b[0m in \u001b[0;36m__init__\u001b[1;34m(self, name, mode, driver, libver, userblock_size, swmr, rdcc_nslots, rdcc_nbytes, rdcc_w0, track_order, **kwds)\u001b[0m\n\u001b[0;32m    392\u001b[0m                 fid = make_fid(name, mode, userblock_size,\n\u001b[0;32m    393\u001b[0m                                \u001b[0mfapl\u001b[0m\u001b[1;33m,\u001b[0m \u001b[0mfcpl\u001b[0m\u001b[1;33m=\u001b[0m\u001b[0mmake_fcpl\u001b[0m\u001b[1;33m(\u001b[0m\u001b[0mtrack_order\u001b[0m\u001b[1;33m=\u001b[0m\u001b[0mtrack_order\u001b[0m\u001b[1;33m)\u001b[0m\u001b[1;33m,\u001b[0m\u001b[1;33m\u001b[0m\u001b[1;33m\u001b[0m\u001b[0m\n\u001b[1;32m--> 394\u001b[1;33m                                swmr=swmr)\n\u001b[0m\u001b[0;32m    395\u001b[0m \u001b[1;33m\u001b[0m\u001b[0m\n\u001b[0;32m    396\u001b[0m             \u001b[1;32mif\u001b[0m \u001b[0mswmr_support\u001b[0m\u001b[1;33m:\u001b[0m\u001b[1;33m\u001b[0m\u001b[1;33m\u001b[0m\u001b[0m\n",
      "\u001b[1;32mC:\\Anaconda3\\lib\\site-packages\\h5py\\_hl\\files.py\u001b[0m in \u001b[0;36mmake_fid\u001b[1;34m(name, mode, userblock_size, fapl, fcpl, swmr)\u001b[0m\n\u001b[0;32m    174\u001b[0m         \u001b[0mfid\u001b[0m \u001b[1;33m=\u001b[0m \u001b[0mh5f\u001b[0m\u001b[1;33m.\u001b[0m\u001b[0mcreate\u001b[0m\u001b[1;33m(\u001b[0m\u001b[0mname\u001b[0m\u001b[1;33m,\u001b[0m \u001b[0mh5f\u001b[0m\u001b[1;33m.\u001b[0m\u001b[0mACC_EXCL\u001b[0m\u001b[1;33m,\u001b[0m \u001b[0mfapl\u001b[0m\u001b[1;33m=\u001b[0m\u001b[0mfapl\u001b[0m\u001b[1;33m,\u001b[0m \u001b[0mfcpl\u001b[0m\u001b[1;33m=\u001b[0m\u001b[0mfcpl\u001b[0m\u001b[1;33m)\u001b[0m\u001b[1;33m\u001b[0m\u001b[1;33m\u001b[0m\u001b[0m\n\u001b[0;32m    175\u001b[0m     \u001b[1;32melif\u001b[0m \u001b[0mmode\u001b[0m \u001b[1;33m==\u001b[0m \u001b[1;34m'w'\u001b[0m\u001b[1;33m:\u001b[0m\u001b[1;33m\u001b[0m\u001b[1;33m\u001b[0m\u001b[0m\n\u001b[1;32m--> 176\u001b[1;33m         \u001b[0mfid\u001b[0m \u001b[1;33m=\u001b[0m \u001b[0mh5f\u001b[0m\u001b[1;33m.\u001b[0m\u001b[0mcreate\u001b[0m\u001b[1;33m(\u001b[0m\u001b[0mname\u001b[0m\u001b[1;33m,\u001b[0m \u001b[0mh5f\u001b[0m\u001b[1;33m.\u001b[0m\u001b[0mACC_TRUNC\u001b[0m\u001b[1;33m,\u001b[0m \u001b[0mfapl\u001b[0m\u001b[1;33m=\u001b[0m\u001b[0mfapl\u001b[0m\u001b[1;33m,\u001b[0m \u001b[0mfcpl\u001b[0m\u001b[1;33m=\u001b[0m\u001b[0mfcpl\u001b[0m\u001b[1;33m)\u001b[0m\u001b[1;33m\u001b[0m\u001b[1;33m\u001b[0m\u001b[0m\n\u001b[0m\u001b[0;32m    177\u001b[0m     \u001b[1;32melif\u001b[0m \u001b[0mmode\u001b[0m \u001b[1;33m==\u001b[0m \u001b[1;34m'a'\u001b[0m\u001b[1;33m:\u001b[0m\u001b[1;33m\u001b[0m\u001b[1;33m\u001b[0m\u001b[0m\n\u001b[0;32m    178\u001b[0m         \u001b[1;31m# Open in append mode (read/write).\u001b[0m\u001b[1;33m\u001b[0m\u001b[1;33m\u001b[0m\u001b[1;33m\u001b[0m\u001b[0m\n",
      "\u001b[1;32mh5py\\_objects.pyx\u001b[0m in \u001b[0;36mh5py._objects.with_phil.wrapper\u001b[1;34m()\u001b[0m\n",
      "\u001b[1;32mh5py\\_objects.pyx\u001b[0m in \u001b[0;36mh5py._objects.with_phil.wrapper\u001b[1;34m()\u001b[0m\n",
      "\u001b[1;32mh5py\\h5f.pyx\u001b[0m in \u001b[0;36mh5py.h5f.create\u001b[1;34m()\u001b[0m\n",
      "\u001b[1;31mOSError\u001b[0m: Unable to create file (unable to truncate a file which is already open)"
     ]
    }
   ],
   "source": [
    "import h5py\n",
    "hf = h5py.File('C:\\\\Users\\\\Sandhya Rao\\\\Desktop\\\\REMBRANDT/data.h5', 'w')"
   ]
  },
  {
   "cell_type": "code",
   "execution_count": 39,
   "metadata": {},
   "outputs": [
    {
     "name": "stdout",
     "output_type": "stream",
     "text": [
      "<class 'numpy.ndarray'>\n"
     ]
    }
   ],
   "source": [
    "X=np.array(image_list)\n",
    "Y=np.array(label_list)\n",
    "print(type(X))"
   ]
  },
  {
   "cell_type": "code",
   "execution_count": 40,
   "metadata": {},
   "outputs": [
    {
     "data": {
      "text/plain": [
       "<HDF5 dataset \"Y_train\": shape (21223, 3), type \"<i4\">"
      ]
     },
     "execution_count": 40,
     "metadata": {},
     "output_type": "execute_result"
    }
   ],
   "source": [
    "hf.create_dataset('X_train', data=X)\n",
    "hf.create_dataset('Y_train', data=Y)"
   ]
  },
  {
   "cell_type": "code",
   "execution_count": 41,
   "metadata": {},
   "outputs": [],
   "source": [
    "hf.close()"
   ]
  },
  {
   "cell_type": "code",
   "execution_count": null,
   "metadata": {},
   "outputs": [],
   "source": []
  }
 ],
 "metadata": {
  "kernelspec": {
   "display_name": "Python 3",
   "language": "python",
   "name": "python3"
  },
  "language_info": {
   "codemirror_mode": {
    "name": "ipython",
    "version": 3
   },
   "file_extension": ".py",
   "mimetype": "text/x-python",
   "name": "python",
   "nbconvert_exporter": "python",
   "pygments_lexer": "ipython3",
   "version": "3.7.4"
  }
 },
 "nbformat": 4,
 "nbformat_minor": 2
}
